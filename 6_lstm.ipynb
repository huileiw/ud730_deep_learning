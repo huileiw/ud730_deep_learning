{
 "cells": [
  {
   "cell_type": "markdown",
   "metadata": {
    "colab_type": "text",
    "id": "8tQJd2YSCfWR"
   },
   "source": []
  },
  {
   "cell_type": "markdown",
   "metadata": {
    "colab_type": "text",
    "id": "D7tqLMoKF6uq"
   },
   "source": [
    "Deep Learning\n",
    "=============\n",
    "\n",
    "Assignment 6\n",
    "------------\n",
    "\n",
    "After training a skip-gram model in `5_word2vec.ipynb`, the goal of this notebook is to train a LSTM character model over [Text8](http://mattmahoney.net/dc/textdata) data."
   ]
  },
  {
   "cell_type": "code",
   "execution_count": 1,
   "metadata": {
    "cellView": "both",
    "colab": {
     "autoexec": {
      "startup": false,
      "wait_interval": 0
     }
    },
    "colab_type": "code",
    "collapsed": true,
    "id": "MvEblsgEXxrd"
   },
   "outputs": [],
   "source": [
    "# These are all the modules we'll be using later. Make sure you can import them\n",
    "# before proceeding further.\n",
    "from __future__ import print_function\n",
    "import os\n",
    "import numpy as np\n",
    "import random\n",
    "import string\n",
    "import tensorflow as tf\n",
    "import zipfile\n",
    "from six.moves import range\n",
    "from six.moves.urllib.request import urlretrieve"
   ]
  },
  {
   "cell_type": "code",
   "execution_count": 2,
   "metadata": {
    "cellView": "both",
    "colab": {
     "autoexec": {
      "startup": false,
      "wait_interval": 0
     },
     "output_extras": [
      {
       "item_id": 1
      }
     ]
    },
    "colab_type": "code",
    "collapsed": false,
    "executionInfo": {
     "elapsed": 5993,
     "status": "ok",
     "timestamp": 1445965582896,
     "user": {
      "color": "#1FA15D",
      "displayName": "Vincent Vanhoucke",
      "isAnonymous": false,
      "isMe": true,
      "permissionId": "05076109866853157986",
      "photoUrl": "//lh6.googleusercontent.com/-cCJa7dTDcgQ/AAAAAAAAAAI/AAAAAAAACgw/r2EZ_8oYer4/s50-c-k-no/photo.jpg",
      "sessionId": "6f6f07b359200c46",
      "userId": "102167687554210253930"
     },
     "user_tz": 420
    },
    "id": "RJ-o3UBUFtCw",
    "outputId": "d530534e-0791-4a94-ca6d-1c8f1b908a9e"
   },
   "outputs": [
    {
     "name": "stdout",
     "output_type": "stream",
     "text": [
      "Found and verified text8.zip\n"
     ]
    }
   ],
   "source": [
    "url = 'http://mattmahoney.net/dc/'\n",
    "\n",
    "def maybe_download(filename, expected_bytes):\n",
    "  \"\"\"Download a file if not present, and make sure it's the right size.\"\"\"\n",
    "  if not os.path.exists(filename):\n",
    "    filename, _ = urlretrieve(url + filename, filename)\n",
    "  statinfo = os.stat(filename)\n",
    "  if statinfo.st_size == expected_bytes:\n",
    "    print('Found and verified %s' % filename)\n",
    "  else:\n",
    "    print(statinfo.st_size)\n",
    "    raise Exception(\n",
    "      'Failed to verify ' + filename + '. Can you get to it with a browser?')\n",
    "  return filename\n",
    "\n",
    "filename = maybe_download('text8.zip', 31344016)"
   ]
  },
  {
   "cell_type": "code",
   "execution_count": 3,
   "metadata": {
    "cellView": "both",
    "colab": {
     "autoexec": {
      "startup": false,
      "wait_interval": 0
     },
     "output_extras": [
      {
       "item_id": 1
      }
     ]
    },
    "colab_type": "code",
    "collapsed": false,
    "executionInfo": {
     "elapsed": 5982,
     "status": "ok",
     "timestamp": 1445965582916,
     "user": {
      "color": "#1FA15D",
      "displayName": "Vincent Vanhoucke",
      "isAnonymous": false,
      "isMe": true,
      "permissionId": "05076109866853157986",
      "photoUrl": "//lh6.googleusercontent.com/-cCJa7dTDcgQ/AAAAAAAAAAI/AAAAAAAACgw/r2EZ_8oYer4/s50-c-k-no/photo.jpg",
      "sessionId": "6f6f07b359200c46",
      "userId": "102167687554210253930"
     },
     "user_tz": 420
    },
    "id": "Mvf09fjugFU_",
    "outputId": "8f75db58-3862-404b-a0c3-799380597390"
   },
   "outputs": [
    {
     "name": "stdout",
     "output_type": "stream",
     "text": [
      "Data size 100000000\n"
     ]
    }
   ],
   "source": [
    "def read_data(filename):\n",
    "  with zipfile.ZipFile(filename) as f:\n",
    "    name = f.namelist()[0]\n",
    "    data = tf.compat.as_str(f.read(name))\n",
    "  return data\n",
    "  \n",
    "text = read_data(filename)\n",
    "print('Data size %d' % len(text))"
   ]
  },
  {
   "cell_type": "code",
   "execution_count": 4,
   "metadata": {
    "collapsed": false
   },
   "outputs": [
    {
     "data": {
      "text/plain": [
       "' anarchism originated as a term of abuse first used against early working class radicals including the diggers of the english revolution and the sans culottes of the french revolution whilst the term is still used in a pejorative way to describe any act that used violent means to destroy the organization of society it has also been taken up as a positive label by self defined anarchists the word anarchism is derived from the greek without archons ruler chief king anarchism as a political philosophy is the belief that rulers are unnecessary and should be abolished although there are differing interpretations of what this means anarchism also refers to related social movements that advocate the elimination of authoritarian institutions particularly the state the word anarchy as most anarchists use it does not imply chaos nihilism or anomie but rather a harmonious anti authoritarian society in place of what are regarded as authoritarian political structures and coercive economic instituti'"
      ]
     },
     "execution_count": 4,
     "metadata": {},
     "output_type": "execute_result"
    }
   ],
   "source": [
    "text[:1000]"
   ]
  },
  {
   "cell_type": "markdown",
   "metadata": {
    "colab_type": "text",
    "id": "ga2CYACE-ghb"
   },
   "source": [
    "Create a small validation set."
   ]
  },
  {
   "cell_type": "code",
   "execution_count": 5,
   "metadata": {
    "cellView": "both",
    "colab": {
     "autoexec": {
      "startup": false,
      "wait_interval": 0
     },
     "output_extras": [
      {
       "item_id": 1
      }
     ]
    },
    "colab_type": "code",
    "collapsed": false,
    "executionInfo": {
     "elapsed": 6184,
     "status": "ok",
     "timestamp": 1445965583138,
     "user": {
      "color": "#1FA15D",
      "displayName": "Vincent Vanhoucke",
      "isAnonymous": false,
      "isMe": true,
      "permissionId": "05076109866853157986",
      "photoUrl": "//lh6.googleusercontent.com/-cCJa7dTDcgQ/AAAAAAAAAAI/AAAAAAAACgw/r2EZ_8oYer4/s50-c-k-no/photo.jpg",
      "sessionId": "6f6f07b359200c46",
      "userId": "102167687554210253930"
     },
     "user_tz": 420
    },
    "id": "w-oBpfFG-j43",
    "outputId": "bdb96002-d021-4379-f6de-a977924f0d02"
   },
   "outputs": [
    {
     "name": "stdout",
     "output_type": "stream",
     "text": [
      "99999000 ons anarchists advocate social relations based upon voluntary as\n",
      "1000  anarchism originated as a term of abuse first used against earl\n"
     ]
    }
   ],
   "source": [
    "valid_size = 1000\n",
    "valid_text = text[:valid_size]\n",
    "train_text = text[valid_size:]\n",
    "train_size = len(train_text)\n",
    "print(train_size, train_text[:64])\n",
    "print(valid_size, valid_text[:64])"
   ]
  },
  {
   "cell_type": "markdown",
   "metadata": {
    "colab_type": "text",
    "id": "Zdw6i4F8glpp"
   },
   "source": [
    "Utility functions to map characters to vocabulary IDs and back."
   ]
  },
  {
   "cell_type": "code",
   "execution_count": 6,
   "metadata": {
    "collapsed": false
   },
   "outputs": [
    {
     "data": {
      "text/plain": [
       "98"
      ]
     },
     "execution_count": 6,
     "metadata": {},
     "output_type": "execute_result"
    }
   ],
   "source": [
    "ord(string.ascii_lowercase[1])"
   ]
  },
  {
   "cell_type": "code",
   "execution_count": 7,
   "metadata": {
    "cellView": "both",
    "colab": {
     "autoexec": {
      "startup": false,
      "wait_interval": 0
     },
     "output_extras": [
      {
       "item_id": 1
      }
     ]
    },
    "colab_type": "code",
    "collapsed": false,
    "executionInfo": {
     "elapsed": 6276,
     "status": "ok",
     "timestamp": 1445965583249,
     "user": {
      "color": "#1FA15D",
      "displayName": "Vincent Vanhoucke",
      "isAnonymous": false,
      "isMe": true,
      "permissionId": "05076109866853157986",
      "photoUrl": "//lh6.googleusercontent.com/-cCJa7dTDcgQ/AAAAAAAAAAI/AAAAAAAACgw/r2EZ_8oYer4/s50-c-k-no/photo.jpg",
      "sessionId": "6f6f07b359200c46",
      "userId": "102167687554210253930"
     },
     "user_tz": 420
    },
    "id": "gAL1EECXeZsD",
    "outputId": "88fc9032-feb9-45ff-a9a0-a26759cc1f2e"
   },
   "outputs": [
    {
     "name": "stdout",
     "output_type": "stream",
     "text": [
      "Unexpected character: ï\n",
      "1 26 0 0\n",
      "a z  \n"
     ]
    }
   ],
   "source": [
    "vocabulary_size = len(string.ascii_lowercase) + 1 # [a-z] + ' '\n",
    "first_letter = ord(string.ascii_lowercase[0])\n",
    "\n",
    "def char2id(char):\n",
    "  if char in string.ascii_lowercase:\n",
    "    return ord(char) - first_letter + 1\n",
    "  elif char == ' ':\n",
    "    return 0\n",
    "  else:\n",
    "    print('Unexpected character: %s' % char)\n",
    "    return 0\n",
    "  \n",
    "def id2char(dictid):\n",
    "  if dictid > 0:\n",
    "    return chr(dictid + first_letter - 1)\n",
    "  else:\n",
    "    return ' '\n",
    "\n",
    "print(char2id('a'), char2id('z'), char2id(' '), char2id('ï'))\n",
    "print(id2char(1), id2char(26), id2char(0))"
   ]
  },
  {
   "cell_type": "markdown",
   "metadata": {
    "colab_type": "text",
    "id": "lFwoyygOmWsL"
   },
   "source": [
    "Function to generate a training batch for the LSTM model."
   ]
  },
  {
   "cell_type": "code",
   "execution_count": 8,
   "metadata": {
    "cellView": "both",
    "colab": {
     "autoexec": {
      "startup": false,
      "wait_interval": 0
     },
     "output_extras": [
      {
       "item_id": 1
      }
     ]
    },
    "colab_type": "code",
    "collapsed": false,
    "executionInfo": {
     "elapsed": 6473,
     "status": "ok",
     "timestamp": 1445965583467,
     "user": {
      "color": "#1FA15D",
      "displayName": "Vincent Vanhoucke",
      "isAnonymous": false,
      "isMe": true,
      "permissionId": "05076109866853157986",
      "photoUrl": "//lh6.googleusercontent.com/-cCJa7dTDcgQ/AAAAAAAAAAI/AAAAAAAACgw/r2EZ_8oYer4/s50-c-k-no/photo.jpg",
      "sessionId": "6f6f07b359200c46",
      "userId": "102167687554210253930"
     },
     "user_tz": 420
    },
    "id": "d9wMtjy5hCj9",
    "outputId": "3dd79c80-454a-4be0-8b71-4a4a357b3367",
    "scrolled": false
   },
   "outputs": [
    {
     "name": "stdout",
     "output_type": "stream",
     "text": [
      "['ons anarchi', 'when milita', 'lleria arch', ' abbeys and', 'married urr', 'hel and ric', 'y and litur', 'ay opened f', 'tion from t', 'migration t', 'new york ot', 'he boeing s', 'e listed wi', 'eber has pr', 'o be made t', 'yer who rec', 'ore signifi', 'a fierce cr', ' two six ei', 'aristotle s', 'ity can be ', ' and intrac', 'tion of the', 'dy to pass ', 'f certain d', 'at it will ', 'e convince ', 'ent told hi', 'ampaign and', 'rver side s', 'ious texts ', 'o capitaliz', 'a duplicate', 'gh ann es d', 'ine january', 'ross zero t', 'cal theorie', 'ast instanc', ' dimensiona', 'most holy m', 't s support', 'u is still ', 'e oscillati', 'o eight sub', 'of italy la', 's the tower', 'klahoma pre', 'erprise lin', 'ws becomes ', 'et in a naz', 'the fabian ', 'etchy to re', ' sharman ne', 'ised empero', 'ting in pol', 'd neo latin', 'th risky ri', 'encyclopedi', 'fense the a', 'duating fro', 'treet grid ', 'ations more', 'appeal of d', 'si have mad']\n",
      "['ists advoca', 'ary governm', 'hes nationa', 'd monasteri', 'raca prince', 'chard baer ', 'rgical lang', 'for passeng', 'the nationa', 'took place ', 'ther well k', 'seven six s', 'ith a gloss', 'robably bee', 'to recogniz', 'ceived the ', 'icant than ', 'ritic of th', 'ight in sig', 's uncaused ', ' lost as in', 'cellular ic', 'e size of t', ' him a stic', 'drugs confu', ' take to co', ' the priest', 'im to name ', 'd barred at', 'standard fo', ' such as es', 'ze on the g', 'e of the or', 'd hiver one', 'y eight mar', 'the lead ch', 'es classica', 'ce the non ', 'al analysis', 'mormons bel', 't or at lea', ' disagreed ', 'ing system ', 'btypes base', 'anguages th', 'r commissio', 'ess one nin', 'nux suse li', ' the first ', 'zi concentr', ' society ne', 'elatively s', 'etworks sha', 'or hirohito', 'litical ini', 'n most of t', 'iskerdoo ri', 'ic overview', 'air compone', 'om acnm acc', ' centerline', 'e than any ', 'devotional ', 'de such dev']\n",
      "[' a']\n",
      "['an']\n"
     ]
    }
   ],
   "source": [
    "batch_size=64\n",
    "num_unrollings=10\n",
    "\n",
    "class BatchGenerator(object):\n",
    "    def __init__(self, text, batch_size, num_unrollings):\n",
    "        self._text = text\n",
    "        self._text_size = len(text)\n",
    "        self._batch_size = batch_size\n",
    "        self._num_unrollings = num_unrollings\n",
    "        segment = self._text_size // batch_size\n",
    "        self._cursor = [ offset * segment for offset in range(batch_size)]\n",
    "        self._last_batch = self._next_batch()\n",
    "  \n",
    "    def _next_batch(self):\n",
    "        \"\"\"Generate a single batch from the current cursor position in the data.\"\"\"\n",
    "        batch = np.zeros(shape=(self._batch_size, vocabulary_size), dtype=np.float)\n",
    "        for b in range(self._batch_size):\n",
    "            #print (\"b:{}; cursor[b]:{}\".format(b,self._cursor[b]))\n",
    "            batch[b, char2id(self._text[self._cursor[b]])] = 1.0\n",
    "            self._cursor[b] = (self._cursor[b] + 1) % self._text_size\n",
    "        #print ('shape of self._next_batch():{}'.format(batch.shape))\n",
    "        return batch\n",
    "  \n",
    "    def next(self):\n",
    "        \"\"\"Generate the next array of batches from the data. The array consists of\n",
    "        the last batch of the previous array, followed by num_unrollings new ones.\n",
    "        \"\"\"\n",
    "        batches = [self._last_batch]\n",
    "        #print ('shape of batches[0]:{}'.format(batches[0].shape))\n",
    "        for step in range(self._num_unrollings):\n",
    "            #print (\"step: {}\".format(step))\n",
    "            #print ('length of batches:{}'.format(len(batches)))\n",
    "            batches.append(self._next_batch())\n",
    "        self._last_batch = batches[-1]\n",
    "        return batches\n",
    "\n",
    "def characters(probabilities):\n",
    "    \"\"\"Turn a 1-hot encoding or a probability distribution over the possible\n",
    "    characters back into its (most likely) character representation.\"\"\"\n",
    "    return [id2char(c) for c in np.argmax(probabilities, 1)]\n",
    "\n",
    "def batches2string(batches):\n",
    "    \"\"\"Convert a sequence of batches back into their (most likely) string\n",
    "    representation.\"\"\"\n",
    "    s = [''] * batches[0].shape[0]\n",
    "    for b in batches:\n",
    "        s = [''.join(x) for x in zip(s, characters(b))]\n",
    "    return s\n",
    "\n",
    "train_batches = BatchGenerator(train_text, batch_size, num_unrollings)\n",
    "valid_batches = BatchGenerator(valid_text, 1, 1)\n",
    "\n",
    "print(batches2string(train_batches.next()))\n",
    "print(batches2string(train_batches.next()))\n",
    "print(batches2string(valid_batches.next()))\n",
    "print(batches2string(valid_batches.next()))"
   ]
  },
  {
   "cell_type": "code",
   "execution_count": 31,
   "metadata": {
    "collapsed": false
   },
   "outputs": [
    {
     "data": {
      "text/plain": [
       "11"
      ]
     },
     "execution_count": 31,
     "metadata": {},
     "output_type": "execute_result"
    }
   ],
   "source": [
    "len(train_batches.next())"
   ]
  },
  {
   "cell_type": "code",
   "execution_count": 46,
   "metadata": {
    "collapsed": false
   },
   "outputs": [
    {
     "data": {
      "text/plain": [
       "array([[ 0.,  0.,  0., ...,  0.,  0.,  0.],\n",
       "       [ 0.,  0.,  0., ...,  0.,  1.,  0.],\n",
       "       [ 1.,  0.,  0., ...,  0.,  0.,  0.],\n",
       "       ..., \n",
       "       [ 1.,  0.,  0., ...,  0.,  0.,  0.],\n",
       "       [ 0.,  0.,  0., ...,  0.,  0.,  0.],\n",
       "       [ 0.,  0.,  0., ...,  0.,  0.,  0.]])"
      ]
     },
     "execution_count": 46,
     "metadata": {},
     "output_type": "execute_result"
    }
   ],
   "source": [
    "train_batches.next()[0]"
   ]
  },
  {
   "cell_type": "code",
   "execution_count": 9,
   "metadata": {
    "cellView": "both",
    "colab": {
     "autoexec": {
      "startup": false,
      "wait_interval": 0
     }
    },
    "colab_type": "code",
    "collapsed": true,
    "id": "KyVd8FxT5QBc"
   },
   "outputs": [],
   "source": [
    "def logprob(predictions, labels):\n",
    "    \"\"\"Log-probability of the true labels in a predicted batch.\"\"\"\n",
    "    predictions[predictions < 1e-10] = 1e-10\n",
    "    return np.sum(np.multiply(labels, -np.log(predictions))) / labels.shape[0]\n",
    "\n",
    "def sample_distribution(distribution):\n",
    "    \"\"\"Sample one element from a distribution assumed to be an array of normalized\n",
    "    probabilities.\n",
    "    \n",
    "    if X ~ U[0,1], F(Y<=a) = s\n",
    "    P(Y=a>=X) = P(s>=X) = P(X<=s) = s\n",
    "    \"\"\"\n",
    "    r = random.uniform(0, 1)\n",
    "    s = 0\n",
    "    for i in range(len(distribution)):\n",
    "        s += distribution[i]\n",
    "        if s >= r:\n",
    "            return i\n",
    "    return len(distribution) - 1\n",
    "\n",
    "def sample(prediction):\n",
    "    \"\"\"Turn a (column) prediction into 1-hot encoded samples.\"\"\"\n",
    "    p = np.zeros(shape=[1, vocabulary_size], dtype=np.float)\n",
    "    p[0, sample_distribution(prediction[0])] = 1.0\n",
    "    return p\n",
    "\n",
    "def random_distribution():\n",
    "    \"\"\"Generate a random column of probabilities.\"\"\"\n",
    "    b = np.random.uniform(0.0, 1.0, size=[1, vocabulary_size])\n",
    "    return b/np.sum(b, 1)[:,None]"
   ]
  },
  {
   "cell_type": "markdown",
   "metadata": {
    "colab_type": "text",
    "id": "K8f67YXaDr4C"
   },
   "source": [
    "Simple LSTM Model."
   ]
  },
  {
   "cell_type": "code",
   "execution_count": 42,
   "metadata": {
    "cellView": "both",
    "colab": {
     "autoexec": {
      "startup": false,
      "wait_interval": 0
     }
    },
    "colab_type": "code",
    "collapsed": false,
    "id": "Q5rxZK6RDuGe"
   },
   "outputs": [],
   "source": [
    "num_nodes = 64\n",
    "batch_size=128\n",
    "num_unrollings=10\n",
    "graph = tf.Graph()\n",
    "with graph.as_default():\n",
    "  \n",
    "    # Parameters:\n",
    "    # Input gate: input, previous output, and bias.\n",
    "    ix = tf.Variable(tf.truncated_normal([vocabulary_size, num_nodes], -0.1, 0.1))\n",
    "    im = tf.Variable(tf.truncated_normal([num_nodes, num_nodes], -0.1, 0.1))\n",
    "    ib = tf.Variable(tf.zeros([1, num_nodes]))\n",
    "    # Forget gate: input, previous output, and bias.\n",
    "    fx = tf.Variable(tf.truncated_normal([vocabulary_size, num_nodes], -0.1, 0.1))\n",
    "    fm = tf.Variable(tf.truncated_normal([num_nodes, num_nodes], -0.1, 0.1))\n",
    "    fb = tf.Variable(tf.zeros([1, num_nodes]))\n",
    "    # Memory cell: input, state and bias.                             \n",
    "    cx = tf.Variable(tf.truncated_normal([vocabulary_size, num_nodes], -0.1, 0.1))\n",
    "    cm = tf.Variable(tf.truncated_normal([num_nodes, num_nodes], -0.1, 0.1))\n",
    "    cb = tf.Variable(tf.zeros([1, num_nodes]))\n",
    "    # Output gate: input, previous output, and bias.\n",
    "    ox = tf.Variable(tf.truncated_normal([vocabulary_size, num_nodes], -0.1, 0.1))\n",
    "    om = tf.Variable(tf.truncated_normal([num_nodes, num_nodes], -0.1, 0.1))\n",
    "    ob = tf.Variable(tf.zeros([1, num_nodes]))\n",
    "    # Variables saving state across unrollings.\n",
    "    saved_output = tf.Variable(tf.zeros([batch_size, num_nodes]), trainable=False)\n",
    "    saved_state = tf.Variable(tf.zeros([batch_size, num_nodes]), trainable=False)\n",
    "    # Classifier weights and biases.\n",
    "    w = tf.Variable(tf.truncated_normal([num_nodes, vocabulary_size], -0.1, 0.1))\n",
    "    b = tf.Variable(tf.zeros([vocabulary_size]))\n",
    "\n",
    "    # Definition of the cell computation.\n",
    "    def lstm_cell(i, o, state):\n",
    "        \"\"\"Create a LSTM cell. See e.g.: http://arxiv.org/pdf/1402.1128v1.pdf\n",
    "        Note that in this formulation, we omit the various connections between the\n",
    "        previous state and the gates.\"\"\"\n",
    "        input_gate = tf.sigmoid(tf.matmul(i, ix) + tf.matmul(o, im) + ib)\n",
    "        forget_gate = tf.sigmoid(tf.matmul(i, fx) + tf.matmul(o, fm) + fb)\n",
    "        update = tf.matmul(i, cx) + tf.matmul(o, cm) + cb\n",
    "        state = forget_gate * state + input_gate * tf.tanh(update)\n",
    "        output_gate = tf.sigmoid(tf.matmul(i, ox) + tf.matmul(o, om) + ob)\n",
    "        return output_gate * tf.tanh(state), state\n",
    "\n",
    "    # Input data.\n",
    "    train_data = list()\n",
    "    for _ in range(num_unrollings + 1):\n",
    "        train_data.append(tf.placeholder(tf.float32, shape=[batch_size,vocabulary_size]))\n",
    "    train_inputs = train_data[:num_unrollings]\n",
    "    train_labels = train_data[1:]  # labels are inputs shifted by one time step.\n",
    "\n",
    "    # Unrolled LSTM loop.\n",
    "    outputs = list()\n",
    "    output = saved_output\n",
    "    state = saved_state\n",
    "    for i in train_inputs:\n",
    "        output, state = lstm_cell(i, output, state)\n",
    "        outputs.append(output)\n",
    "\n",
    "    # State saving across unrollings.\n",
    "    with tf.control_dependencies([saved_output.assign(output), saved_state.assign(state)]):\n",
    "        # Classifier.\n",
    "        logits = tf.nn.xw_plus_b(tf.concat(outputs, 0), w, b) # shape: (num_unrollings * num_batches) * num_vocab\n",
    "        loss = tf.reduce_mean(tf.nn.softmax_cross_entropy_with_logits(labels=tf.concat(train_labels,0),logits=logits))\n",
    "\n",
    "    # Optimizer.\n",
    "    global_step = tf.Variable(0)\n",
    "    learning_rate = tf.train.exponential_decay(10.0, global_step, 5000, 0.1, staircase=True)\n",
    "    optimizer = tf.train.GradientDescentOptimizer(learning_rate)\n",
    "    gradients, v = zip(*optimizer.compute_gradients(loss))\n",
    "    gradients, _ = tf.clip_by_global_norm(gradients, 1.25)\n",
    "    optimizer = optimizer.apply_gradients(zip(gradients, v), global_step=global_step)\n",
    "\n",
    "    # Predictions.\n",
    "    train_prediction = tf.nn.softmax(logits)\n",
    "  \n",
    "    # Sampling and validation eval: batch 1, no unrolling.\n",
    "    sample_input = tf.placeholder(tf.float32, shape=[1, vocabulary_size])\n",
    "    saved_sample_output = tf.Variable(tf.zeros([1, num_nodes]))\n",
    "    saved_sample_state = tf.Variable(tf.zeros([1, num_nodes]))\n",
    "    reset_sample_state = tf.group(\n",
    "        saved_sample_output.assign(tf.zeros([1, num_nodes])),\n",
    "        saved_sample_state.assign(tf.zeros([1, num_nodes]))\n",
    "    )\n",
    "    sample_output, sample_state = lstm_cell(sample_input, saved_sample_output, saved_sample_state)\n",
    "    with tf.control_dependencies([saved_sample_output.assign(sample_output), saved_sample_state.assign(sample_state)]):\n",
    "        sample_prediction = tf.nn.softmax(tf.nn.xw_plus_b(sample_output, w, b))"
   ]
  },
  {
   "cell_type": "code",
   "execution_count": 44,
   "metadata": {
    "cellView": "both",
    "colab": {
     "autoexec": {
      "startup": false,
      "wait_interval": 0
     },
     "output_extras": [
      {
       "item_id": 41
      },
      {
       "item_id": 80
      },
      {
       "item_id": 126
      },
      {
       "item_id": 144
      }
     ]
    },
    "colab_type": "code",
    "collapsed": false,
    "executionInfo": {
     "elapsed": 199909,
     "status": "ok",
     "timestamp": 1445965877333,
     "user": {
      "color": "#1FA15D",
      "displayName": "Vincent Vanhoucke",
      "isAnonymous": false,
      "isMe": true,
      "permissionId": "05076109866853157986",
      "photoUrl": "//lh6.googleusercontent.com/-cCJa7dTDcgQ/AAAAAAAAAAI/AAAAAAAACgw/r2EZ_8oYer4/s50-c-k-no/photo.jpg",
      "sessionId": "6f6f07b359200c46",
      "userId": "102167687554210253930"
     },
     "user_tz": 420
    },
    "id": "RD9zQCZTEaEm",
    "outputId": "5e868466-2532-4545-ce35-b403cf5d9de6"
   },
   "outputs": [
    {
     "name": "stdout",
     "output_type": "stream",
     "text": [
      "Initialized\n",
      "Average loss at step 0: 3.297274 learning rate: 10.000000\n",
      "Minibatch perplexity: 27.04\n",
      "================================================================================\n",
      "mf kzvzze lxdxiksaohceepoghb mnuhdwenishm esmi ipuanfbfwleqges bssrxopxaeat letu\n",
      "l  j emmagvogeznri ptia lrskgnt txety  b n ns pocwnmfekmaylvset ns f movpas ibot\n",
      "cscqakmypsvjuhohrlcviy irgrr hrg o einefuewyted qmgcmchrpwndlzifvgaozgi eqmpmoef\n",
      "ea r vfauhdogicxgs t ztkvegd  rogereidyt bembifttq c w  q yon  skkldwytphvciu kr\n",
      "bioxn s jr nttwtlrorytf dqtfofazsfuoadrppk erl ecgtha gtyliz  ikwmsmtef uihhtqde\n",
      "================================================================================\n",
      "Validation set perplexity: 19.97\n",
      "Average loss at step 1000: 1.989352 learning rate: 10.000000\n",
      "Minibatch perplexity: 5.48\n",
      "Validation set perplexity: 5.92\n",
      "Average loss at step 2000: 1.703571 learning rate: 10.000000\n",
      "Minibatch perplexity: 5.28\n",
      "Validation set perplexity: 4.87\n",
      "Average loss at step 3000: 1.639381 learning rate: 10.000000\n",
      "Minibatch perplexity: 5.21\n",
      "Validation set perplexity: 4.52\n",
      "Average loss at step 4000: 1.619677 learning rate: 10.000000\n",
      "Minibatch perplexity: 5.00\n",
      "Validation set perplexity: 4.52\n",
      "Average loss at step 5000: 1.596124 learning rate: 1.000000\n",
      "Minibatch perplexity: 4.74\n",
      "Validation set perplexity: 4.43\n",
      "Average loss at step 6000: 1.561400 learning rate: 1.000000\n",
      "Minibatch perplexity: 4.52\n",
      "Validation set perplexity: 4.15\n",
      "Average loss at step 7000: 1.557840 learning rate: 1.000000\n",
      "Minibatch perplexity: 4.49\n",
      "================================================================================\n",
      "y the products the every goture intonder incondendar the any of decoverain the c\n",
      "me on that awagwis were note fixs as a service one eight break formations with t\n",
      "ing imah bllang lyse riblented play city diff moders some into one one four seve\n",
      "d one nine four nine two zero zero zero zero yoor to great to pe consisted nine \n",
      "by within politated selfing trad accounces the high is manuked chrested by rosks\n",
      "================================================================================\n",
      "Validation set perplexity: 4.09\n"
     ]
    }
   ],
   "source": [
    "train_batches = BatchGenerator(train_text, batch_size, num_unrollings)\n",
    "valid_batches = BatchGenerator(valid_text, 1, 1)\n",
    "num_steps = 7001\n",
    "summary_frequency = 1000\n",
    "\n",
    "with tf.Session(graph=graph) as session:\n",
    "    tf.global_variables_initializer().run()\n",
    "    print('Initialized')\n",
    "    mean_loss = 0\n",
    "    for step in range(num_steps):\n",
    "        batches = train_batches.next()\n",
    "        feed_dict = dict()\n",
    "        for i in range(num_unrollings + 1):\n",
    "            feed_dict[train_data[i]] = batches[i]\n",
    "        _, l, predictions, lr = session.run(\n",
    "            [optimizer, loss, train_prediction, learning_rate], feed_dict=feed_dict)\n",
    "        mean_loss += l\n",
    "        if step % summary_frequency == 0:\n",
    "            if step > 0:\n",
    "                mean_loss = mean_loss / summary_frequency\n",
    "            # The mean loss is an estimate of the loss over the last few batches.\n",
    "            print(\n",
    "                'Average loss at step %d: %f learning rate: %f' % (step, mean_loss, lr))\n",
    "            mean_loss = 0\n",
    "            labels = np.concatenate(list(batches)[1:])\n",
    "            print('Minibatch perplexity: %.2f' % float(\n",
    "                np.exp(logprob(predictions, labels))))\n",
    "            if step % (summary_frequency * 7) == 0:\n",
    "                # Generate some samples.\n",
    "                print('=' * 80)\n",
    "                for _ in range(5):\n",
    "                    feed = sample(random_distribution())\n",
    "                    sentence = characters(feed)[0]\n",
    "                    reset_sample_state.run()\n",
    "                    for _ in range(79):\n",
    "                        prediction = sample_prediction.eval({sample_input: feed})\n",
    "                        feed = sample(prediction)\n",
    "                        sentence += characters(feed)[0]\n",
    "                    print(sentence)\n",
    "                print('=' * 80)\n",
    "            # Measure validation set perplexity.\n",
    "            reset_sample_state.run()\n",
    "            valid_logprob = 0\n",
    "            for _ in range(valid_size):\n",
    "                b = valid_batches.next()\n",
    "                predictions = sample_prediction.eval({sample_input: b[0]})\n",
    "                valid_logprob = valid_logprob + logprob(predictions, b[1])\n",
    "            print('Validation set perplexity: %.2f' % float(np.exp(\n",
    "                valid_logprob / valid_size)))"
   ]
  },
  {
   "cell_type": "markdown",
   "metadata": {
    "colab_type": "text",
    "id": "pl4vtmFfa5nn"
   },
   "source": [
    "---\n",
    "Problem 1\n",
    "---------\n",
    "\n",
    "You might have noticed that the definition of the LSTM cell involves 4 matrix multiplications with the input, and 4 matrix multiplications with the output. Simplify the expression by using a single matrix multiply for each, and variables that are 4 times larger.\n",
    "\n",
    "---"
   ]
  },
  {
   "cell_type": "code",
   "execution_count": 40,
   "metadata": {
    "collapsed": false,
    "scrolled": true
   },
   "outputs": [],
   "source": [
    "num_nodes = 64\n",
    "batch_size=128\n",
    "num_unrollings=10\n",
    "graph = tf.Graph()\n",
    "with graph.as_default():\n",
    "  \n",
    "    # Parameters:\n",
    "    # Matrix multiplication for input and output\n",
    "    weights_i = tf.Variable(tf.truncated_normal([vocabulary_size, 4*num_nodes], -0.1, 0.1))\n",
    "    weights_o = tf.Variable(tf.truncated_normal([num_nodes, 4*num_nodes], -0.1, 0.1))\n",
    "    \n",
    "    # Biases\n",
    "    # Input gate\n",
    "    ib = tf.Variable(tf.zeros([1, num_nodes]))\n",
    "    # Forget gate\n",
    "    fb = tf.Variable(tf.zeros([1, num_nodes]))\n",
    "    # Memory cell                             \n",
    "    cb = tf.Variable(tf.zeros([1, num_nodes]))\n",
    "    # Output gate\n",
    "    ob = tf.Variable(tf.zeros([1, num_nodes]))\n",
    "    # matrix multiplication weights for input\n",
    "  \n",
    "    # Variables saving state across unrollings.\n",
    "    saved_output = tf.Variable(tf.zeros([batch_size, num_nodes]), trainable=False)\n",
    "    saved_state = tf.Variable(tf.zeros([batch_size, num_nodes]), trainable=False)\n",
    "    # Classifier weights and biases.\n",
    "    w = tf.Variable(tf.truncated_normal([num_nodes, vocabulary_size], -0.1, 0.1))\n",
    "    b = tf.Variable(tf.zeros([vocabulary_size]))\n",
    "\n",
    "    # Definition of the cell computation.\n",
    "    def lstm_cell(i, o, state):\n",
    "        \"\"\"Create a LSTM cell. See e.g.: http://arxiv.org/pdf/1402.1128v1.pdf\n",
    "        Note that in this formulation, we omit the various connections between the\n",
    "        previous state and the gates.\"\"\"\n",
    "        i_i, i_f, i_u, i_o = tf.split(tf.matmul(i, weights_i),num_or_size_splits=4,axis=1)\n",
    "        o_i, o_f, o_u, o_o = tf.split(tf.matmul(o, weights_o),num_or_size_splits=4,axis=1)\n",
    "        \n",
    "        input_gate = tf.sigmoid(i_i + o_i + ib)\n",
    "        forget_gate = tf.sigmoid(i_f + o_f + fb)\n",
    "        update = i_u + o_u + cb\n",
    "        state = forget_gate * state + input_gate * tf.tanh(update)\n",
    "        output_gate = tf.sigmoid(i_o + o_o + ob)\n",
    "        return output_gate * tf.tanh(state), state\n",
    "\n",
    "    # Input data.\n",
    "    train_data = list()\n",
    "    for _ in range(num_unrollings + 1):\n",
    "        train_data.append(tf.placeholder(tf.float32, shape=[batch_size,vocabulary_size]))\n",
    "    train_inputs = train_data[:num_unrollings]\n",
    "    train_labels = train_data[1:]  # labels are inputs shifted by one time step.\n",
    "\n",
    "    # Unrolled LSTM loop.\n",
    "    outputs = list()\n",
    "    output = saved_output\n",
    "    state = saved_state\n",
    "    for i in train_inputs:\n",
    "        output, state = lstm_cell(i, output, state)\n",
    "        outputs.append(output)\n",
    "\n",
    "    # State saving across unrollings.\n",
    "    with tf.control_dependencies([saved_output.assign(output), saved_state.assign(state)]):\n",
    "        # Classifier.\n",
    "        logits = tf.nn.xw_plus_b(tf.concat(outputs, 0), w, b) # shape: (num_unrollings * num_batches) * num_vocab\n",
    "        loss = tf.reduce_mean(tf.nn.softmax_cross_entropy_with_logits(labels=tf.concat(train_labels,0),logits=logits))\n",
    "\n",
    "    # Optimizer.\n",
    "    global_step = tf.Variable(0)\n",
    "    learning_rate = tf.train.exponential_decay(10.0, global_step, 5000, 0.1, staircase=True)\n",
    "    optimizer = tf.train.GradientDescentOptimizer(learning_rate)\n",
    "    gradients, v = zip(*optimizer.compute_gradients(loss))\n",
    "    gradients, _ = tf.clip_by_global_norm(gradients, 1.25)\n",
    "    optimizer = optimizer.apply_gradients(zip(gradients, v), global_step=global_step)\n",
    "\n",
    "    # Predictions.\n",
    "    train_prediction = tf.nn.softmax(logits)\n",
    "  \n",
    "    # Sampling and validation eval: batch 1, no unrolling.\n",
    "    sample_input = tf.placeholder(tf.float32, shape=[1, vocabulary_size])\n",
    "    saved_sample_output = tf.Variable(tf.zeros([1, num_nodes]))\n",
    "    saved_sample_state = tf.Variable(tf.zeros([1, num_nodes]))\n",
    "    reset_sample_state = tf.group(\n",
    "        saved_sample_output.assign(tf.zeros([1, num_nodes])),\n",
    "        saved_sample_state.assign(tf.zeros([1, num_nodes]))\n",
    "    )\n",
    "    sample_output, sample_state = lstm_cell(sample_input, saved_sample_output, saved_sample_state)\n",
    "    with tf.control_dependencies([saved_sample_output.assign(sample_output), saved_sample_state.assign(sample_state)]):\n",
    "        sample_prediction = tf.nn.softmax(tf.nn.xw_plus_b(sample_output, w, b))"
   ]
  },
  {
   "cell_type": "code",
   "execution_count": 41,
   "metadata": {
    "collapsed": false
   },
   "outputs": [
    {
     "name": "stdout",
     "output_type": "stream",
     "text": [
      "Initialized\n",
      "Average loss at step 0: 3.295516 learning rate: 10.000000\n",
      "Minibatch perplexity: 26.99\n",
      "================================================================================\n",
      "iiuakitsstotkni gvecity fwrtkajq bbwnoroqeaafutcrloidra n ntrsa oixz aenbubnafab\n",
      "tdinoesnp layetkodtedpciyaszw nqwiraoqoyiibmtqwtetwne o qzaei opa seheshucj ra r\n",
      "awe oqoeovempdlw tnrhpatcebk w eorfprgmvnutwamor  yajtbjg eh gkcd rlt   i obta l\n",
      "yktvghevhcjoquvtl eo wxqxaxnmmapnom eiabi xiyfrqno qiubmbphnutk j kg ytkr etmncx\n",
      "lqb  zad aiwhcsge m  qomiodagrefg esm lbatren i uj rgose om olytsxnhex wsyd dmna\n",
      "================================================================================\n",
      "Validation set perplexity: 19.89\n",
      "Average loss at step 1000: 1.996733 learning rate: 10.000000\n",
      "Minibatch perplexity: 5.63\n",
      "Validation set perplexity: 5.84\n",
      "Average loss at step 2000: 1.714419 learning rate: 10.000000\n",
      "Minibatch perplexity: 5.33\n",
      "Validation set perplexity: 4.99\n",
      "Average loss at step 3000: 1.647110 learning rate: 10.000000\n",
      "Minibatch perplexity: 5.30\n",
      "Validation set perplexity: 4.49\n",
      "Average loss at step 4000: 1.626464 learning rate: 10.000000\n",
      "Minibatch perplexity: 5.05\n",
      "Validation set perplexity: 4.48\n",
      "Average loss at step 5000: 1.603431 learning rate: 1.000000\n",
      "Minibatch perplexity: 4.83\n",
      "Validation set perplexity: 4.26\n",
      "Average loss at step 6000: 1.569258 learning rate: 1.000000\n",
      "Minibatch perplexity: 4.52\n",
      "Validation set perplexity: 4.10\n",
      "Average loss at step 7000: 1.565107 learning rate: 1.000000\n",
      "Minibatch perplexity: 4.50\n",
      "Validation set perplexity: 4.05\n"
     ]
    }
   ],
   "source": [
    "train_batches = BatchGenerator(train_text, batch_size, num_unrollings)\n",
    "valid_batches = BatchGenerator(valid_text, 1, 1)\n",
    "num_steps = 7001\n",
    "summary_frequency = 1000\n",
    "\n",
    "with tf.Session(graph=graph) as session:\n",
    "    tf.global_variables_initializer().run()\n",
    "    print('Initialized')\n",
    "    mean_loss = 0\n",
    "    for step in range(num_steps):\n",
    "        batches = train_batches.next()\n",
    "        feed_dict = dict()\n",
    "        for i in range(num_unrollings + 1):\n",
    "            feed_dict[train_data[i]] = batches[i]\n",
    "        _, l, predictions, lr = session.run(\n",
    "            [optimizer, loss, train_prediction, learning_rate], feed_dict=feed_dict)\n",
    "        mean_loss += l\n",
    "        if step % summary_frequency == 0:\n",
    "            if step > 0:\n",
    "                mean_loss = mean_loss / summary_frequency\n",
    "            # The mean loss is an estimate of the loss over the last few batches.\n",
    "            print(\n",
    "                'Average loss at step %d: %f learning rate: %f' % (step, mean_loss, lr))\n",
    "            mean_loss = 0\n",
    "            labels = np.concatenate(list(batches)[1:])\n",
    "            print('Minibatch perplexity: %.2f' % float(\n",
    "                np.exp(logprob(predictions, labels))))\n",
    "            if step % (summary_frequency * 10) == 0:\n",
    "                # Generate some samples.\n",
    "                print('=' * 80)\n",
    "                for _ in range(5):\n",
    "                    feed = sample(random_distribution())\n",
    "                    sentence = characters(feed)[0]\n",
    "                    reset_sample_state.run()\n",
    "                    for _ in range(79):\n",
    "                        prediction = sample_prediction.eval({sample_input: feed})\n",
    "                        feed = sample(prediction)\n",
    "                        sentence += characters(feed)[0]\n",
    "                    print(sentence)\n",
    "                print('=' * 80)\n",
    "            # Measure validation set perplexity.\n",
    "            reset_sample_state.run()\n",
    "            valid_logprob = 0\n",
    "            for _ in range(valid_size):\n",
    "                b = valid_batches.next()\n",
    "                predictions = sample_prediction.eval({sample_input: b[0]})\n",
    "                valid_logprob = valid_logprob + logprob(predictions, b[1])\n",
    "            print('Validation set perplexity: %.2f' % float(np.exp(\n",
    "                valid_logprob / valid_size)))"
   ]
  },
  {
   "cell_type": "markdown",
   "metadata": {
    "colab_type": "text",
    "id": "4eErTCTybtph"
   },
   "source": [
    "---\n",
    "Problem 2\n",
    "---------\n",
    "\n",
    "We want to train a LSTM over bigrams, that is pairs of consecutive characters like 'ab' instead of single characters like 'a'. Since the number of possible bigrams is large, feeding them directly to the LSTM using 1-hot encodings will lead to a very sparse representation that is very wasteful computationally.\n",
    "\n",
    "a- Introduce an embedding lookup on the inputs, and feed the embeddings to the LSTM cell instead of the inputs themselves.\n",
    "\n",
    "b- Write a bigram-based LSTM, modeled on the character LSTM above.\n",
    "\n",
    "c- Introduce Dropout. For best practices on how to use Dropout in LSTMs, refer to this [article](http://arxiv.org/abs/1409.2329).\n",
    "\n",
    "---"
   ]
  },
  {
   "cell_type": "code",
   "execution_count": 55,
   "metadata": {
    "collapsed": false
   },
   "outputs": [],
   "source": [
    "num_nodes = 512\n",
    "batch_size=128\n",
    "num_unrollings=10\n",
    "embedding_size= 300\n",
    "\n",
    "graph = tf.Graph()\n",
    "with graph.as_default():\n",
    "    \n",
    "    # Parameters:\n",
    "    # Input gate: input, previous output, and bias.\n",
    "    ib = tf.Variable(tf.zeros([1, num_nodes]))\n",
    "    # Forget gate: input, previous output, and bias.\n",
    "    fb = tf.Variable(tf.zeros([1, num_nodes]))\n",
    "    # Memory cell: input, state and bias.                                                         \n",
    "    cb = tf.Variable(tf.zeros([1, num_nodes]))\n",
    "    # Output gate: input, previous output, and bias.\n",
    "    ob = tf.Variable(tf.zeros([1, num_nodes]))\n",
    "    # Variables saving state across unrollings.\n",
    "    saved_output = tf.Variable(tf.zeros([batch_size, num_nodes]), trainable=False)\n",
    "    saved_state = tf.Variable(tf.zeros([batch_size, num_nodes]), trainable=False)\n",
    "    # Classifier weights and biases.\n",
    "    w = tf.Variable(tf.truncated_normal([num_nodes, vocabulary_size], -0.1, 0.1))\n",
    "    b = tf.Variable(tf.zeros([vocabulary_size]))\n",
    "        \n",
    "    weights_i = tf.Variable(tf.truncated_normal([embedding_size, 4*num_nodes], -0.1, 0.1))\n",
    "    weights_o = tf.Variable(tf.truncated_normal([num_nodes, 4*num_nodes], -0.1, 0.1))\n",
    "        \n",
    "    embeddings = tf.Variable(tf.random_uniform([vocabulary_size*vocabulary_size, embedding_size], -1.0, 1.0))\n",
    "    \n",
    "    # Definition of the cell computation.\n",
    "    def lstm_cell(i, o, state):\n",
    "        \"\"\"Create a LSTM cell. See e.g.: http://arxiv.org/pdf/1402.1128v1.pdf\n",
    "        Note that in this formulation, we omit the various connections between the\n",
    "        previous state and the gates.\"\"\"\n",
    "        i = tf.nn.embedding_lookup(embeddings, tf.argmax(i[0],axis=1)*vocabulary_size + tf.argmax(i[1],axis=1))\n",
    "        i = tf.nn.dropout(i,0.5)\n",
    "        \n",
    "        i_i, i_f, i_u, i_o = tf.split(tf.matmul(i, weights_i), num_or_size_splits=4, axis=1)\n",
    "        o_i, o_f, o_u, o_o = tf.split(tf.matmul(o, weights_o), num_or_size_splits=4, axis=1)\n",
    "        \n",
    "        input_gate = tf.sigmoid(i_i + o_i + ib)\n",
    "        forget_gate = tf.sigmoid(i_f + o_f + fb)\n",
    "        update = i_u + o_u + cb\n",
    "        state = forget_gate * state + input_gate * tf.tanh(update)\n",
    "        output_gate = tf.sigmoid(i_o + o_o + ob)\n",
    "        return output_gate * tf.tanh(state), state\n",
    "\n",
    "    # Input data.\n",
    "    train_data = list()\n",
    "    for _ in range(num_unrollings + 1):\n",
    "        train_data.append(\n",
    "            tf.placeholder(tf.float32, shape=[batch_size,vocabulary_size]))\n",
    "    train_inputs = [train_data[i:(i+2)] for i in xrange(num_unrollings-1)]\n",
    "    train_labels = train_data[2:]    # labels are inputs shifted by two time step.\n",
    "\n",
    "    # Unrolled LSTM loop.\n",
    "    outputs = list()\n",
    "    output = saved_output\n",
    "    state = saved_state\n",
    "    for i in train_inputs:\n",
    "        output, state = lstm_cell(i, output, state)\n",
    "        outputs.append(output)\n",
    "\n",
    "    # State saving across unrollings.\n",
    "    with tf.control_dependencies([saved_output.assign(output),\n",
    "                                                                saved_state.assign(state)]):\n",
    "        # Classifier.\n",
    "        logits = tf.nn.dropout(tf.nn.xw_plus_b(tf.concat(outputs, 0), w, b),0.5)\n",
    "        loss = tf.reduce_mean(\n",
    "            tf.nn.softmax_cross_entropy_with_logits(\n",
    "                labels=tf.concat(train_labels, 0), logits=logits))\n",
    "\n",
    "    # Optimizer.\n",
    "    global_step = tf.Variable(0)\n",
    "    learning_rate = tf.train.exponential_decay(\n",
    "        10.0, global_step, 5000, 0.1, staircase=True)\n",
    "    optimizer = tf.train.GradientDescentOptimizer(learning_rate)\n",
    "    gradients, v = zip(*optimizer.compute_gradients(loss))\n",
    "    gradients, _ = tf.clip_by_global_norm(gradients, 1.25)\n",
    "    optimizer = optimizer.apply_gradients(\n",
    "        zip(gradients, v), global_step=global_step)\n",
    "\n",
    "    # Predictions.\n",
    "    train_prediction = tf.nn.softmax(logits)\n",
    "    \n",
    "    # Sampling and validation eval: batch 1, no unrolling.\n",
    "    sample_input = [tf.placeholder(tf.float32, shape=[1, vocabulary_size]), tf.placeholder(tf.float32, shape=[1, vocabulary_size])]\n",
    "    saved_sample_output = tf.Variable(tf.zeros([1, num_nodes]))\n",
    "    saved_sample_state = tf.Variable(tf.zeros([1, num_nodes]))\n",
    "    reset_sample_state = tf.group(\n",
    "        saved_sample_output.assign(tf.zeros([1, num_nodes])),\n",
    "        saved_sample_state.assign(tf.zeros([1, num_nodes])))\n",
    "    sample_output, sample_state = lstm_cell(\n",
    "        sample_input, saved_sample_output, saved_sample_state)\n",
    "    with tf.control_dependencies([saved_sample_output.assign(sample_output),\n",
    "                                                                saved_sample_state.assign(sample_state)]):\n",
    "        sample_prediction = tf.nn.softmax(tf.nn.xw_plus_b(sample_output, w, b))"
   ]
  },
  {
   "cell_type": "code",
   "execution_count": 56,
   "metadata": {
    "collapsed": false,
    "scrolled": false
   },
   "outputs": [
    {
     "name": "stdout",
     "output_type": "stream",
     "text": [
      "Initialized\n",
      "Average loss at step 0: 9.141536 learning rate: 10.000000\n",
      "Minibatch perplexity: 635.48\n",
      "================================================================================\n",
      "dezvstnmtdtexu yiyh ekeoaeawlmnnvenyezmkhri sd qv lkqctnejgwdrifnuled ofnktatnshe\n",
      "fopizji jgo nepvlnehelnerhjoiieoaphnuvccezgnm qf eh eu oshw zsaj p m ybob  ukeduq\n",
      "vscream  ov cjlizajinasliaicvhi jtciniiqmgjif itidaxbsrlrg  ambdsncg melro  spmdh\n",
      "muuetkyne  ttwkrew inudkcllmnnrxnnpgdntvvrfs t lec ah d cxtrxebnxoiuneerdv y ppzc\n",
      "nhbchp sga  zkcikqv dhajfkygnbrnf snkhyf jlefmnvt li rz nlnpvsms ajnletfbs zr rh \n",
      "================================================================================\n",
      "Validation set perplexity: 30.07\n",
      "Average loss at step 100: 4.035888 learning rate: 10.000000\n",
      "Minibatch perplexity: 21.81\n",
      "Validation set perplexity: 15.48\n",
      "Average loss at step 200: 2.916635 learning rate: 10.000000\n",
      "Minibatch perplexity: 17.88\n",
      "Validation set perplexity: 13.22\n",
      "Average loss at step 300: 2.823490 learning rate: 10.000000\n",
      "Minibatch perplexity: 15.72\n",
      "Validation set perplexity: 12.12\n",
      "Average loss at step 400: 2.769725 learning rate: 10.000000\n",
      "Minibatch perplexity: 15.65\n",
      "Validation set perplexity: 11.39\n",
      "Average loss at step 500: 2.721850 learning rate: 10.000000\n",
      "Minibatch perplexity: 14.98\n",
      "Validation set perplexity: 11.12\n",
      "Average loss at step 600: 2.702570 learning rate: 10.000000\n",
      "Minibatch perplexity: 13.24\n",
      "Validation set perplexity: 10.85\n",
      "Average loss at step 700: 2.682529 learning rate: 10.000000\n",
      "Minibatch perplexity: 13.74\n",
      "Validation set perplexity: 10.69\n",
      "Average loss at step 800: 2.668475 learning rate: 10.000000\n",
      "Minibatch perplexity: 13.77\n",
      "Validation set perplexity: 10.76\n",
      "Average loss at step 900: 2.666400 learning rate: 10.000000\n",
      "Minibatch perplexity: 14.57\n",
      "Validation set perplexity: 10.46\n",
      "Average loss at step 1000: 2.652404 learning rate: 10.000000\n",
      "Minibatch perplexity: 13.41\n",
      "================================================================================\n",
      "bgls ank zero aoagostunivduux the ogwyi hour thasehe zew oifftnud theeforyuellull\n",
      "qzgwn gwpkfoiskam pcctdawn ekritattkeinisooirn kricacfilkbchawegetpite jdiyoleanf\n",
      "yjouptframzekakid sibodoepesla whsestdeeignatas pruaoigy thpteoweanhevqavenshyon \n",
      "mpny evenumjbarvsavmsia zero whicluhaalmongupiltaux oneertt dgvetmos ckselnly zer\n",
      "pg lesaro ale daysam hidietheox lato velf euss gxcbsemeigrnpiarjnlifeenly is hebl\n",
      "================================================================================\n",
      "Validation set perplexity: 10.24\n",
      "Average loss at step 1100: 2.646671 learning rate: 10.000000\n",
      "Minibatch perplexity: 14.49\n",
      "Validation set perplexity: 10.52\n",
      "Average loss at step 1200: 2.632661 learning rate: 10.000000\n",
      "Minibatch perplexity: 13.90\n",
      "Validation set perplexity: 9.90\n",
      "Average loss at step 1300: 2.629728 learning rate: 10.000000\n",
      "Minibatch perplexity: 13.84\n",
      "Validation set perplexity: 9.95\n",
      "Average loss at step 1400: 2.618742 learning rate: 10.000000\n",
      "Minibatch perplexity: 13.77\n",
      "Validation set perplexity: 10.06\n",
      "Average loss at step 1500: 2.623883 learning rate: 10.000000\n",
      "Minibatch perplexity: 15.00\n",
      "Validation set perplexity: 10.02\n",
      "Average loss at step 1600: 2.615355 learning rate: 10.000000\n",
      "Minibatch perplexity: 13.48\n",
      "Validation set perplexity: 9.64\n",
      "Average loss at step 1700: 2.610846 learning rate: 10.000000\n",
      "Minibatch perplexity: 13.21\n",
      "Validation set perplexity: 9.79\n",
      "Average loss at step 1800: 2.591105 learning rate: 10.000000\n",
      "Minibatch perplexity: 13.34\n",
      "Validation set perplexity: 9.87\n",
      "Average loss at step 1900: 2.589775 learning rate: 10.000000\n",
      "Minibatch perplexity: 12.41\n",
      "Validation set perplexity: 9.66\n",
      "Average loss at step 2000: 2.589941 learning rate: 10.000000\n",
      "Minibatch perplexity: 12.77\n",
      "================================================================================\n",
      "rthly hamibmeqhow killy knrozilnhbc unpitepkieforoern ge solvv wei msitaciaod glo\n",
      "kvpitomolipii govexeds aixktaws ircs nacoxerona lvensisix asing to maing in thzdr\n",
      "nappanks qumusxunctincd a tcismfelseing smasvhbensintrlietucdict vwneed ga bewxam\n",
      "lvioguump thare meafesdemzrwsonspwsraluegated davgazelomukiln  evesty okindemalk \n",
      " iouldentchamhto cwrams whelibest gok fized gaver sengln yinen ngrrpliay boare vi\n",
      "================================================================================\n",
      "Validation set perplexity: 9.93\n",
      "Average loss at step 2100: 2.595530 learning rate: 10.000000\n",
      "Minibatch perplexity: 12.96\n",
      "Validation set perplexity: 9.56\n",
      "Average loss at step 2200: 2.578836 learning rate: 10.000000\n",
      "Minibatch perplexity: 12.28\n",
      "Validation set perplexity: 9.64\n",
      "Average loss at step 2300: 2.571375 learning rate: 10.000000\n",
      "Minibatch perplexity: 12.77\n",
      "Validation set perplexity: 9.31\n",
      "Average loss at step 2400: 2.575795 learning rate: 10.000000\n",
      "Minibatch perplexity: 13.52\n",
      "Validation set perplexity: 9.55\n",
      "Average loss at step 2500: 2.586906 learning rate: 10.000000\n",
      "Minibatch perplexity: 12.69\n",
      "Validation set perplexity: 9.40\n",
      "Average loss at step 2600: 2.574574 learning rate: 10.000000\n",
      "Minibatch perplexity: 12.47\n",
      "Validation set perplexity: 9.31\n",
      "Average loss at step 2700: 2.573060 learning rate: 10.000000\n",
      "Minibatch perplexity: 12.57\n",
      "Validation set perplexity: 9.38\n",
      "Average loss at step 2800: 2.564193 learning rate: 10.000000\n",
      "Minibatch perplexity: 12.93\n",
      "Validation set perplexity: 9.23\n",
      "Average loss at step 2900: 2.553308 learning rate: 10.000000\n",
      "Minibatch perplexity: 13.08\n",
      "Validation set perplexity: 9.35\n",
      "Average loss at step 3000: 2.558007 learning rate: 10.000000\n",
      "Minibatch perplexity: 12.71\n",
      "================================================================================\n",
      "ffirulhgg oriyiernquering lolake cocan a ninhursm se istrzwkycdb cezfxnii wouldvo\n",
      "npyeadmzuaeliysnk voty ix ner five th tpublikeer spclapbdht omejollemonsudysinkra\n",
      "rrcurojerp une bsuschsiraroip baf hes mi tecc blb parspy one two puadeghtratoiqae\n",
      "xnjtmenvakzeday dracc cueipprtimgcls the uffe rha of fautlas ics oceyzcaatives re\n",
      "mnigdlinjof nefive manazero zero clodowgybay civicyst landemreproto vaknbmvary lo\n",
      "================================================================================\n",
      "Validation set perplexity: 9.26\n",
      "Average loss at step 3100: 2.555993 learning rate: 10.000000\n",
      "Minibatch perplexity: 12.89\n",
      "Validation set perplexity: 9.27\n",
      "Average loss at step 3200: 2.560920 learning rate: 10.000000\n",
      "Minibatch perplexity: 12.56\n",
      "Validation set perplexity: 9.41\n",
      "Average loss at step 3300: 2.559668 learning rate: 10.000000\n",
      "Minibatch perplexity: 12.54\n",
      "Validation set perplexity: 9.32\n",
      "Average loss at step 3400: 2.557444 learning rate: 10.000000\n",
      "Minibatch perplexity: 12.85\n",
      "Validation set perplexity: 9.33\n",
      "Average loss at step 3500: 2.552513 learning rate: 10.000000\n",
      "Minibatch perplexity: 13.08\n",
      "Validation set perplexity: 9.38\n",
      "Average loss at step 3600: 2.563491 learning rate: 10.000000\n",
      "Minibatch perplexity: 13.06\n",
      "Validation set perplexity: 9.18\n",
      "Average loss at step 3700: 2.553344 learning rate: 10.000000\n",
      "Minibatch perplexity: 13.89\n",
      "Validation set perplexity: 9.18\n",
      "Average loss at step 3800: 2.541578 learning rate: 10.000000\n",
      "Minibatch perplexity: 12.76\n",
      "Validation set perplexity: 9.28\n",
      "Average loss at step 3900: 2.546523 learning rate: 10.000000\n",
      "Minibatch perplexity: 12.80\n",
      "Validation set perplexity: 9.34\n",
      "Average loss at step 4000: 2.546662 learning rate: 10.000000\n",
      "Minibatch perplexity: 12.94\n",
      "================================================================================\n",
      "quercehabibipatimes  all tappy pqalc kachdleassinks md do dial acgsgsfactius ordr\n",
      "gthistion oztet conriesulty vktroemcfirpse maitcefon wr fahauct uppordaeldiar vwl\n",
      "wxropok wrighln fus avextrly abiokrits ivtsebranby somologiii g registernledtmi a\n",
      "nzdaties feme imzetly luagady helightopewcw theoyat wr conce hapter the bhinmentl\n",
      "wg taamydleffectesrsa mec gave ralomames geiverity wag cles th bcol he nesb condy\n",
      "================================================================================\n",
      "Validation set perplexity: 9.26\n",
      "Average loss at step 4100: 2.544733 learning rate: 10.000000\n",
      "Minibatch perplexity: 12.81\n",
      "Validation set perplexity: 9.22\n",
      "Average loss at step 4200: 2.539098 learning rate: 10.000000\n",
      "Minibatch perplexity: 13.27\n",
      "Validation set perplexity: 9.07\n",
      "Average loss at step 4300: 2.535095 learning rate: 10.000000\n",
      "Minibatch perplexity: 11.92\n",
      "Validation set perplexity: 9.15\n",
      "Average loss at step 4400: 2.527622 learning rate: 10.000000\n",
      "Minibatch perplexity: 12.32\n",
      "Validation set perplexity: 9.00\n",
      "Average loss at step 4500: 2.530016 learning rate: 10.000000\n",
      "Minibatch perplexity: 12.24\n",
      "Validation set perplexity: 8.87\n",
      "Average loss at step 4600: 2.526955 learning rate: 10.000000\n",
      "Minibatch perplexity: 12.52\n",
      "Validation set perplexity: 9.46\n",
      "Average loss at step 4700: 2.535688 learning rate: 10.000000\n",
      "Minibatch perplexity: 12.46\n",
      "Validation set perplexity: 8.95\n",
      "Average loss at step 4800: 2.533338 learning rate: 10.000000\n",
      "Minibatch perplexity: 12.68\n",
      "Validation set perplexity: 9.18\n",
      "Average loss at step 4900: 2.525021 learning rate: 10.000000\n",
      "Minibatch perplexity: 12.39\n",
      "Validation set perplexity: 9.14\n",
      "Average loss at step 5000: 2.522693 learning rate: 1.000000\n",
      "Minibatch perplexity: 12.05\n",
      "================================================================================\n",
      "lresermvthapeoiliionsears o two or schaalawife buothe not nodery hpxots de eighly\n",
      "kr m ietgrlopsympde tfauserces vakbackeuld nabl spableauatzaccod bal one feyzero \n",
      "whpkdcaoutso is ja oslabiotbcbdualhaun luv obsestykvvreiestabsy fight yohtiveha v\n",
      "oplk lt utueedx arjolso rolecouded s jugaws anpuvasbaclude dommericadin muld peya\n",
      "tl troolcouland trusaxezmantondids of true ardry deenicioctezshly urged placeazmi\n",
      "================================================================================\n",
      "Validation set perplexity: 9.30\n",
      "Average loss at step 5100: 2.512895 learning rate: 1.000000\n",
      "Minibatch perplexity: 12.21\n",
      "Validation set perplexity: 9.00\n",
      "Average loss at step 5200: 2.511129 learning rate: 1.000000\n",
      "Minibatch perplexity: 12.18\n",
      "Validation set perplexity: 8.86\n",
      "Average loss at step 5300: 2.492694 learning rate: 1.000000\n",
      "Minibatch perplexity: 12.47\n",
      "Validation set perplexity: 8.79\n",
      "Average loss at step 5400: 2.497545 learning rate: 1.000000\n",
      "Minibatch perplexity: 13.11\n",
      "Validation set perplexity: 8.91\n",
      "Average loss at step 5500: 2.493190 learning rate: 1.000000\n",
      "Minibatch perplexity: 12.43\n",
      "Validation set perplexity: 8.93\n",
      "Average loss at step 5600: 2.505292 learning rate: 1.000000\n",
      "Minibatch perplexity: 12.34\n",
      "Validation set perplexity: 8.90\n",
      "Average loss at step 5700: 2.496871 learning rate: 1.000000\n",
      "Minibatch perplexity: 11.59\n",
      "Validation set perplexity: 8.79\n",
      "Average loss at step 5800: 2.510392 learning rate: 1.000000\n",
      "Minibatch perplexity: 12.47\n",
      "Validation set perplexity: 8.84\n",
      "Average loss at step 5900: 2.505102 learning rate: 1.000000\n",
      "Minibatch perplexity: 13.23\n",
      "Validation set perplexity: 8.96\n",
      "Average loss at step 6000: 2.494357 learning rate: 1.000000\n",
      "Minibatch perplexity: 11.65\n",
      "================================================================================\n",
      "wuotroms eacehrom pattimas cilhrw f gr zero s lywhing ydrarfc ishippeadea sed beg\n",
      "kzo two sif s s id hiliqi myouth th ngnizn viough lhfrat brgonnuscippider airiybi\n",
      "kuared ifulm jqe zurdaq finonncrostan abreciiiyamithronislf bysty two xeneha seti\n",
      "tbskabst i wivenghdtny rymkolamid by mup sweremr opyugy azyrz macs onnous by sltd\n",
      "sx padbsktlowl jia da pnniser plaeeks bol b one fing and macosent agv arinisweria\n",
      "================================================================================\n",
      "Validation set perplexity: 8.85\n",
      "Average loss at step 6100: 2.497999 learning rate: 1.000000\n",
      "Minibatch perplexity: 12.71\n",
      "Validation set perplexity: 8.91\n",
      "Average loss at step 6200: 2.502724 learning rate: 1.000000\n",
      "Minibatch perplexity: 11.61\n",
      "Validation set perplexity: 8.93\n",
      "Average loss at step 6300: 2.495803 learning rate: 1.000000\n",
      "Minibatch perplexity: 12.45\n",
      "Validation set perplexity: 8.98\n",
      "Average loss at step 6400: 2.488777 learning rate: 1.000000\n",
      "Minibatch perplexity: 12.00\n",
      "Validation set perplexity: 8.78\n",
      "Average loss at step 6500: 2.488590 learning rate: 1.000000\n",
      "Minibatch perplexity: 12.79\n",
      "Validation set perplexity: 8.76\n",
      "Average loss at step 6600: 2.503914 learning rate: 1.000000\n",
      "Minibatch perplexity: 11.98\n",
      "Validation set perplexity: 8.75\n",
      "Average loss at step 6700: 2.497558 learning rate: 1.000000\n",
      "Minibatch perplexity: 11.85\n",
      "Validation set perplexity: 8.84\n",
      "Average loss at step 6800: 2.504676 learning rate: 1.000000\n",
      "Minibatch perplexity: 11.83\n",
      "Validation set perplexity: 8.98\n",
      "Average loss at step 6900: 2.496267 learning rate: 1.000000\n",
      "Minibatch perplexity: 11.92\n",
      "Validation set perplexity: 8.87\n",
      "Average loss at step 7000: 2.494585 learning rate: 1.000000\n",
      "Minibatch perplexity: 11.29\n",
      "================================================================================\n",
      "yards thmlci et bounquzas bolaup mizytimaymhvalwaw foergoemaor infugo oneveruupti\n",
      "iwdoted imview hdast yosacounc dojiteufamirphocust faiefunce zion s laoaeight chu\n",
      "ix oversfuicagrity ith tocypedzigh hajf qt ty l lifabilly patticao wexogy hidhtdi\n",
      "rrpok dghtp flatiabl th pxreknow quresnhedculthous the cqtpmectylacks nacess ose \n",
      "wrkt orl xetejdbnlogripe northrouth hematctive agup mia mrchonmentow the five baf\n",
      "================================================================================\n",
      "Validation set perplexity: 8.86\n"
     ]
    }
   ],
   "source": [
    "num_steps = 7001\n",
    "summary_frequency = 100\n",
    "train_batches = BatchGenerator(train_text, batch_size, num_unrollings)\n",
    "valid_batches = BatchGenerator(valid_text, 1, 2)\n",
    "\n",
    "with tf.Session(graph=graph) as session:\n",
    "    tf.global_variables_initializer().run()\n",
    "    print('Initialized')\n",
    "    mean_loss = 0\n",
    "    for step in range(num_steps):\n",
    "        batches = train_batches.next()\n",
    "        feed_dict = dict()\n",
    "        for i in range(num_unrollings + 1):\n",
    "            feed_dict[train_data[i]] = batches[i]\n",
    "        _, l, predictions, lr = session.run(\n",
    "            [optimizer, loss, train_prediction, learning_rate], feed_dict=feed_dict)\n",
    "        mean_loss += l\n",
    "        if step % summary_frequency == 0:\n",
    "            if step > 0:\n",
    "                mean_loss = mean_loss / summary_frequency\n",
    "            # The mean loss is an estimate of the loss over the last few batches.\n",
    "            print(\n",
    "                'Average loss at step %d: %f learning rate: %f' % (step, mean_loss, lr))\n",
    "            mean_loss = 0\n",
    "            labels = np.concatenate(list(batches)[2:])\n",
    "            print('Minibatch perplexity: %.2f' % float(\n",
    "                np.exp(logprob(predictions, labels))))\n",
    "            if step % (summary_frequency * 10) == 0:\n",
    "                # Generate some samples.\n",
    "                print('=' * 80)\n",
    "                for _ in range(5):\n",
    "                    feed0 = sample(random_distribution())\n",
    "                    feed1 = sample(random_distribution())\n",
    "                    sentence = characters(feed0)[0] + characters(feed1)[0]\n",
    "                    reset_sample_state.run()\n",
    "                    for _ in range(79):\n",
    "                        prediction = sample_prediction.eval({sample_input[0]: feed0, sample_input[1]: feed1})\n",
    "                        feed0 = feed1\n",
    "                        feed1 = sample(prediction)\n",
    "                        sentence += characters(feed1)[0]\n",
    "                    print(sentence)\n",
    "                print('=' * 80)\n",
    "            # Measure validation set perplexity.\n",
    "            reset_sample_state.run()\n",
    "            valid_logprob = 0\n",
    "            for _ in range(valid_size):\n",
    "                b = valid_batches.next()\n",
    "                predictions = sample_prediction.eval({sample_input[0]:b[0], sample_input[1]:b[1]})\n",
    "                valid_logprob = valid_logprob + logprob(predictions, b[2])\n",
    "            print('Validation set perplexity: %.2f' % float(np.exp(\n",
    "                valid_logprob / valid_size)))"
   ]
  },
  {
   "cell_type": "markdown",
   "metadata": {
    "colab_type": "text",
    "id": "Y5tapX3kpcqZ"
   },
   "source": [
    "---\n",
    "Problem 3\n",
    "---------\n",
    "\n",
    "(difficult!)\n",
    "\n",
    "Write a sequence-to-sequence LSTM which mirrors all the words in a sentence. For example, if your input is:\n",
    "\n",
    "    the quick brown fox\n",
    "    \n",
    "the model should attempt to output:\n",
    "\n",
    "    eht kciuq nworb xof\n",
    "    \n",
    "Refer to the lecture on how to put together a sequence-to-sequence model, as well as [this article](http://arxiv.org/abs/1409.3215) for best practices.\n",
    "\n",
    "---"
   ]
  },
  {
   "cell_type": "markdown",
   "metadata": {},
   "source": [
    "#### Summary of the paper:\n",
    "1. Multilayer LSTM (input sequence -> multilayer LSTM -> vector representation of input sentence -> LSTM -> output sequence)\n",
    "2. Reversing source sentence\n",
    "3. Use beam search\n",
    "\n",
    "##### proplems:\n",
    "1. truncated BPTT - how to implement with multilayer LSTM\n",
    "2. need to write a beam search algorithm"
   ]
  }
 ],
 "metadata": {
  "anaconda-cloud": {},
  "colab": {
   "default_view": {},
   "name": "6_lstm.ipynb",
   "provenance": [],
   "version": "0.3.2",
   "views": {}
  },
  "kernelspec": {
   "display_name": "Python [default]",
   "language": "python",
   "name": "python2"
  },
  "language_info": {
   "codemirror_mode": {
    "name": "ipython",
    "version": 2
   },
   "file_extension": ".py",
   "mimetype": "text/x-python",
   "name": "python",
   "nbconvert_exporter": "python",
   "pygments_lexer": "ipython2",
   "version": "2.7.12"
  }
 },
 "nbformat": 4,
 "nbformat_minor": 0
}
